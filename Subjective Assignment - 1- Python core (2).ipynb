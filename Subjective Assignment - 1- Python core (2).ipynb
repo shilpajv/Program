{
 "cells": [
  {
   "cell_type": "markdown",
   "metadata": {},
   "source": [
    "Q1. Write a Python program to get the string from the given string where\n",
    "all the occurrence of its first char has been changed to '$,' except first\n",
    "char itself?\n",
    "\n",
    "    Sample String: 'prospect'\n",
    "    Expected Result : 'pros$ect'\n"
   ]
  },
  {
   "cell_type": "code",
   "execution_count": 2,
   "metadata": {},
   "outputs": [
    {
     "name": "stdout",
     "output_type": "stream",
     "text": [
      "pros$ect\n"
     ]
    }
   ],
   "source": [
    "def change_char(str1):\n",
    "    \n",
    "    \n",
    "    char = str1[0]\n",
    "    str1 = str1.replace(char, '$')\n",
    "    str1 = char + str1[1:]\n",
    "    return str1\n",
    "\n",
    "print(change_char('prospect'))"
   ]
  },
  {
   "cell_type": "markdown",
   "metadata": {},
   "source": [
    "Q2. Write a Python program to get the single string from the two given\n",
    "strings, and separated by the space and swap the first two characters of\n",
    "each string?\n",
    "\n",
    "    Sample String : 'abc', 'xyz'.\n",
    "    Expected Result: 'xyc abz'"
   ]
  },
  {
   "cell_type": "code",
   "execution_count": 15,
   "metadata": {},
   "outputs": [],
   "source": [
    "def swap():\n",
    "    s1=input('enter your string 1 ')\n",
    "    s2= input('enter your  string 2')\n",
    "    x=s1[:2]\n",
    "    y=s2[:2]\n",
    "    s=s1[2:]\n",
    "    t=s2[2:]\n",
    "    s1= y + s\n",
    "    s2 = x+  t\n",
    "    print(\"swapped strings are: \" ,s1 + \" \", s2)"
   ]
  },
  {
   "cell_type": "code",
   "execution_count": 16,
   "metadata": {},
   "outputs": [
    {
     "name": "stdout",
     "output_type": "stream",
     "text": [
      "enter your string 1 xyz\n",
      "enter your  string 2abc\n",
      "swapped strings are  abz  xyc\n"
     ]
    }
   ],
   "source": [
    "swap()"
   ]
  },
  {
   "cell_type": "markdown",
   "metadata": {},
   "source": [
    "Q3. Write the Python program to add 'ing' at the end of the given string\n",
    "(length of the string should be at least 3). If given string already ends\n",
    "with 'ing,' then add 'ly' instead. If string length of the given string is less\n",
    "than 3, leave it unchanged?\n",
    "\n",
    "\n",
    "    Sample string: ' abc '\n",
    "    Expected result: ' abcing '\n",
    "    Sample string: ' string '\n",
    "    Expected result: ' stringly '\n"
   ]
  },
  {
   "cell_type": "code",
   "execution_count": 17,
   "metadata": {},
   "outputs": [],
   "source": [
    "def change_string(s):\n",
    "    if len(s)<3:\n",
    "        return s\n",
    "    else:\n",
    "        if (s.endswith('ing')==True):\n",
    "            s=s+'ly'\n",
    "        else:\n",
    "            s=s+'ing'\n",
    "        return s\n",
    "        \n",
    "    "
   ]
  },
  {
   "cell_type": "code",
   "execution_count": 21,
   "metadata": {},
   "outputs": [
    {
     "data": {
      "text/plain": [
       "'string'"
      ]
     },
     "execution_count": 21,
     "metadata": {},
     "output_type": "execute_result"
    }
   ],
   "source": [
    "change_string(\"str\")"
   ]
  },
  {
   "cell_type": "markdown",
   "metadata": {},
   "source": [
    "Q4. Write the Python program to find the first appearance of the\n",
    "substring 'not' and 'poor' from the given string, if 'not' follows the 'poor',\n",
    "replace the whole 'not'...' poor' substring with 'good'.Return the resulting\n",
    "string.\n",
    "\n",
    "    Sample string: 'The lyrics are not that poor!'\n",
    "    'The lyrics are poor!'\n",
    "    Expected Result: 'The lyrics are good!'\n",
    "    'The lyrics are poor!'"
   ]
  },
  {
   "cell_type": "code",
   "execution_count": 3,
   "metadata": {},
   "outputs": [
    {
     "name": "stdout",
     "output_type": "stream",
     "text": [
      "enter sentence:The lyrics are not that poor!' 'The lyrics are poor\n",
      "The lyrics are good!' 'The lyrics are poor\n"
     ]
    }
   ],
   "source": [
    "st=input(\"enter sentence:\")\n",
    "x=st.find(\"not\")\n",
    "y=st.find(\"poor\")\n",
    "if y>x and y>0 and x>0 and y>0:\n",
    "    st=st.replace(st[x:y+4],\"good\")\n",
    "    print (st) \n",
    "else:\n",
    "    print (st)"
   ]
  },
  {
   "cell_type": "markdown",
   "metadata": {},
   "source": [
    "Q5. Write the Python program to remove the characters which have odd\n",
    "index values of a given string."
   ]
  },
  {
   "cell_type": "code",
   "execution_count": 36,
   "metadata": {},
   "outputs": [],
   "source": [
    "def odd_rem(str):\n",
    "    t=len(str)\n",
    "    s=\"\"\n",
    "    for i in range(t):\n",
    "        if ((i%2) ==0):\n",
    "            \n",
    "            s=s + str[i]\n",
    "    print (s)\n",
    "            \n",
    "            "
   ]
  },
  {
   "cell_type": "code",
   "execution_count": 38,
   "metadata": {},
   "outputs": [
    {
     "name": "stdout",
     "output_type": "stream",
     "text": [
      "delanig\n"
     ]
    }
   ],
   "source": [
    "odd_rem('deeplearnning')"
   ]
  },
  {
   "cell_type": "markdown",
   "metadata": {},
   "source": [
    "Q6. Write the python program to print the following floating numbers up\n",
    "to 2 decimal places?"
   ]
  },
  {
   "cell_type": "code",
   "execution_count": 49,
   "metadata": {},
   "outputs": [],
   "source": [
    "def trim_num():\n",
    "    num=float(input(\"enter floating no: \"))\n",
    "    print(\"Formatted Number: \"+\"{:.2f}\".format(num))"
   ]
  },
  {
   "cell_type": "code",
   "execution_count": 50,
   "metadata": {},
   "outputs": [
    {
     "name": "stdout",
     "output_type": "stream",
     "text": [
      "enter floating no: 67.8944\n",
      "Formatted Number: 67.89\n"
     ]
    }
   ],
   "source": [
    "trim_num()\n",
    "\n"
   ]
  },
  {
   "cell_type": "markdown",
   "metadata": {},
   "source": [
    "Q7. Write the Python program to format a number with a percentage?"
   ]
  },
  {
   "cell_type": "code",
   "execution_count": 54,
   "metadata": {},
   "outputs": [],
   "source": [
    "def format_percent(num):\n",
    "    num=str(num) + \"%\"\n",
    "    print(num)"
   ]
  },
  {
   "cell_type": "code",
   "execution_count": 55,
   "metadata": {},
   "outputs": [
    {
     "name": "stdout",
     "output_type": "stream",
     "text": [
      "45.9%\n"
     ]
    }
   ],
   "source": [
    "format_percent(45.9)"
   ]
  },
  {
   "cell_type": "markdown",
   "metadata": {},
   "source": [
    "Q8. Write the Python program to count occurrences of a substring in a\n",
    "String?"
   ]
  },
  {
   "cell_type": "code",
   "execution_count": 66,
   "metadata": {},
   "outputs": [
    {
     "data": {
      "text/plain": [
       "2"
      ]
     },
     "execution_count": 66,
     "metadata": {},
     "output_type": "execute_result"
    }
   ],
   "source": [
    "string=\"this is a very very good book. Let us all buy this book\"\n",
    "substring='book'\n",
    "\n",
    "occur=string.lower().count(substring.lower())\n",
    "print(occur)"
   ]
  },
  {
   "cell_type": "markdown",
   "metadata": {},
   "source": [
    "Q9. Write the Python program to count repeated characters in a string.\n",
    "\n",
    "    Sample string: ' thequickbrownjumpsoverthelazydog '\n",
    "    \n",
    "    Expected output:\n",
    "    o 3\n",
    "    e 3\n",
    "    u 2\n",
    "    h 2\n",
    "    r 2\n",
    "    t 2"
   ]
  },
  {
   "cell_type": "code",
   "execution_count": 11,
   "metadata": {},
   "outputs": [
    {
     "name": "stdout",
     "output_type": "stream",
     "text": [
      "t 2\n",
      "h 2\n",
      "e 3\n",
      "u 2\n",
      "r 2\n",
      "o 3\n"
     ]
    }
   ],
   "source": [
    "st= 'thequickbrownjumpsoverthelazydog'\n",
    "from collections import Counter\n",
    "x=dict(Counter(st))\n",
    "for k,v in x.items():\n",
    "    if v>1:\n",
    "        print(k,v)"
   ]
  },
  {
   "cell_type": "markdown",
   "metadata": {},
   "source": [
    "Q10. Write the Python program to print the square and cube symbol in\n",
    "the area of a rectangle and volume of a cylinder?\n",
    "\n",
    "    Sample outputThe area of the rectangle is 1256.66cm2\n",
    "    The volume of the cylinder is 1254.725cm3\n"
   ]
  },
  {
   "cell_type": "code",
   "execution_count": null,
   "metadata": {},
   "outputs": [],
   "source": []
  },
  {
   "cell_type": "markdown",
   "metadata": {},
   "source": [
    "Q11. Write the Python program to check if a string contains all letters of\n",
    "the alphabet?"
   ]
  },
  {
   "cell_type": "code",
   "execution_count": 4,
   "metadata": {},
   "outputs": [
    {
     "name": "stdout",
     "output_type": "stream",
     "text": [
      "It's PANGRAM!\n"
     ]
    }
   ],
   "source": [
    "def ispangram(s):\n",
    "    \n",
    "    stringy = ''\n",
    "    flag = True\n",
    "    validLetters = \"abcdefghijklmnopqrstuvwxyz\"\n",
    "\n",
    " \n",
    "    for char in s.lower():\n",
    "        if(char in validLetters):\n",
    "            \n",
    "        \n",
    "            stringy += char\n",
    "\n",
    "  #check if all the letters of the alphabet exist on the string\n",
    "    for char in validLetters:\n",
    "        if(char in stringy):\n",
    "            pass\n",
    "        else:\n",
    "        \n",
    "            flag = False\n",
    "            break\n",
    "\n",
    "    return flag\n",
    "\n",
    "if(ispangram(\"thequickbrownjumpsoverthelazydog\")):\n",
    "      print(\"It's PANGRAM!\")\n",
    "else:\n",
    "      print(\"It's not Pangram :(\")"
   ]
  },
  {
   "cell_type": "code",
   "execution_count": 5,
   "metadata": {},
   "outputs": [
    {
     "data": {
      "text/plain": [
       "False"
      ]
     },
     "execution_count": 5,
     "metadata": {},
     "output_type": "execute_result"
    }
   ],
   "source": [
    "ispangram('Hello')"
   ]
  },
  {
   "cell_type": "markdown",
   "metadata": {},
   "source": [
    "Q12. Write the Python program to find the second most repeated word\n",
    "in a given string?"
   ]
  },
  {
   "cell_type": "code",
   "execution_count": 49,
   "metadata": {},
   "outputs": [],
   "source": [
    "from collections import Counter\n",
    "def sec(st):\n",
    "    s=st.lower().split()\n",
    "    d=Counter(s)\n",
    "    \n",
    "    v=sorted(d.values(),reverse=False)\n",
    "    v=list(set(v))\n",
    "    print (d)\n",
    "    secondmost=v[-2]\n",
    "    print('frequency of second most occuring word: ',secondmost)\n",
    "    for k,v in d.items():\n",
    "    \n",
    "        if v==secondmost:\n",
    "            print('second most frequent word :',k)"
   ]
  },
  {
   "cell_type": "code",
   "execution_count": 52,
   "metadata": {},
   "outputs": [
    {
     "name": "stdout",
     "output_type": "stream",
     "text": [
      "Counter({'to': 7, 'this': 5, 'blue': 2, 'how': 2, 'rise': 2, 'shine': 2, 'mere': 1, 'statement': 1, 'sea': 1, 'shore': 1, 'water': 1, 'given': 1, 'all': 1, 'characters': 1, 'st': 1, 'window': 1, 'python': 1, 'prg': 1})\n",
      "frequency of second most occuring word:  5\n",
      "second most frequent word : this\n"
     ]
    }
   ],
   "source": [
    "sec('this this this This blue mere to to statement how how  to rise Sea shore blue water shine shine this given all characters st window python prg to to to to rise')"
   ]
  },
  {
   "cell_type": "markdown",
   "metadata": {},
   "source": [
    "Q13. Write the Python program to find the minimum window in the given\n",
    "string, which will contains all the characters of another given\n",
    "strings?\n",
    "\n",
    "    Example 1\n",
    "    Input : string1 = \" PRWSOERIUSFK \"\n",
    "    string2 = \" OSU \"\n",
    "    Output: Minimum window is \"OERIUS\""
   ]
  },
  {
   "cell_type": "code",
   "execution_count": 1,
   "metadata": {},
   "outputs": [
    {
     "name": "stdout",
     "output_type": "stream",
     "text": [
      "Original Strings:\n",
      " PRWSOERIUSFK \n",
      " OSU\n",
      "Minimum window:\n",
      "OERIUS\n"
     ]
    }
   ],
   "source": [
    "import collections\n",
    "def min_window(str1, str2):\n",
    "    result_char, missing_char = collections.Counter(str2), len(str2)\n",
    "    i = p = q = 0\n",
    "    for j, c in enumerate(str1, 1):\n",
    "        missing_char -= result_char[c] > 0\n",
    "        result_char[c] -= 1\n",
    "        if not missing_char:\n",
    "            while i < q and result_char[str1[i]] < 0:\n",
    "                result_char[str1[i]] += 1\n",
    "                i += 1\n",
    "            if not q or j - i <= q - p:\n",
    "                p, q = i, j\n",
    "    return str1[p:q]\n",
    "           \n",
    "str1 = \"PRWSOERIUSFK\"\n",
    "str2 = \"OSU\"\n",
    "print(\"Original Strings:\\n\",str1,\"\\n\",str2)\n",
    "print(\"Minimum window:\")\n",
    "print(min_window(str1,str2))\n"
   ]
  },
  {
   "cell_type": "markdown",
   "metadata": {},
   "source": [
    "Q14. Write the Python program to count number of substrings from a\n",
    "given string of lowercase alphabets with exactly k distinct (given)\n",
    "characters?\n",
    "\n",
    "    Input a string (lowercase alphabets): wolf\n",
    "    Input k: 4\n",
    "    Number of substrings with exactly 4 distinct characters: 1"
   ]
  },
  {
   "cell_type": "code",
   "execution_count": null,
   "metadata": {},
   "outputs": [],
   "source": [
    "inp=\"This is new song.tit for tat. string sing emami hello oreo elephant fainnt faint tin tiny tinny\"\n",
    "n=input(\"enter k for distinct no of alphabets\")\n",
    "from collections import Counter\n",
    "for i in inp:\n",
    "    if len(i)==n:\n",
    "        "
   ]
  },
  {
   "cell_type": "markdown",
   "metadata": {},
   "source": [
    "Q15. Write the Python program to count number of substrings with same\n",
    "first and last characters of the given string?\n",
    "\n",
    "    Input a string: abcd\n",
    "    4\n"
   ]
  },
  {
   "cell_type": "code",
   "execution_count": 61,
   "metadata": {},
   "outputs": [],
   "source": [
    "st=\"Write the Python program to find the minimum window in the given string  hello ho  holl which will contains all the characters of another given strings\""
   ]
  },
  {
   "cell_type": "code",
   "execution_count": 63,
   "metadata": {},
   "outputs": [
    {
     "name": "stdout",
     "output_type": "stream",
     "text": [
      "input a string:will\n"
     ]
    }
   ],
   "source": [
    "t=input(\"input a string:\")"
   ]
  },
  {
   "cell_type": "code",
   "execution_count": 64,
   "metadata": {},
   "outputs": [],
   "source": [
    "s=t.lower().split()"
   ]
  },
  {
   "cell_type": "code",
   "execution_count": 65,
   "metadata": {},
   "outputs": [
    {
     "name": "stdout",
     "output_type": "stream",
     "text": [
      "w\n",
      "l\n"
     ]
    }
   ],
   "source": [
    "firstchar=t[0]\n",
    "lastchar=t[-1]\n",
    "print(firstchar)\n",
    "print(lastchar)"
   ]
  },
  {
   "cell_type": "code",
   "execution_count": 66,
   "metadata": {},
   "outputs": [
    {
     "name": "stdout",
     "output_type": "stream",
     "text": [
      "1\n"
     ]
    }
   ],
   "source": [
    "c=0\n",
    "for i in s:\n",
    "    if (i.startswith(firstchar) and i.endswith(lastchar)):\n",
    "        c=c+1\n",
    "print(c)"
   ]
  },
  {
   "cell_type": "markdown",
   "metadata": {},
   "source": [
    "## Great Job!"
   ]
  }
 ],
 "metadata": {
  "kernelspec": {
   "display_name": "Python 3",
   "language": "python",
   "name": "python3"
  },
  "language_info": {
   "codemirror_mode": {
    "name": "ipython",
    "version": 3
   },
   "file_extension": ".py",
   "mimetype": "text/x-python",
   "name": "python",
   "nbconvert_exporter": "python",
   "pygments_lexer": "ipython3",
   "version": "3.6.4"
  }
 },
 "nbformat": 4,
 "nbformat_minor": 2
}
